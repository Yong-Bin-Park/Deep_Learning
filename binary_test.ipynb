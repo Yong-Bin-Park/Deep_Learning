{
 "cells": [
  {
   "cell_type": "code",
   "execution_count": 7,
   "id": "7e5219a3",
   "metadata": {},
   "outputs": [],
   "source": [
    "%run binary.ipynb"
   ]
  },
  {
   "cell_type": "code",
   "execution_count": 8,
   "id": "8688d2d8",
   "metadata": {},
   "outputs": [
    {
     "name": "stdout",
     "output_type": "stream",
     "text": [
      "Epoch 1: loss=0.616, accuracy=0.574/0.776\n",
      "Epoch 2: loss=0.544, accuracy=0.683/0.746\n",
      "Epoch 3: loss=0.534, accuracy=0.700/0.776\n",
      "Epoch 4: loss=0.531, accuracy=0.713/0.851\n",
      "Epoch 5: loss=0.529, accuracy=0.722/0.791\n",
      "Epoch 6: loss=0.531, accuracy=0.730/0.776\n",
      "Epoch 7: loss=0.522, accuracy=0.722/0.806\n",
      "Epoch 8: loss=0.528, accuracy=0.717/0.866\n",
      "Epoch 9: loss=0.519, accuracy=0.752/0.776\n",
      "Epoch 10: loss=0.527, accuracy=0.717/0.776\n",
      "\n",
      "Final Test: final accuracy = 0.776\n"
     ]
    }
   ],
   "source": [
    "binary_exec()"
   ]
  },
  {
   "cell_type": "code",
   "execution_count": 9,
   "id": "61a4aa3e",
   "metadata": {},
   "outputs": [
    {
     "name": "stdout",
     "output_type": "stream",
     "text": [
      "Epoch 1: loss=-41.018, accuracy=0.997/1.000\n",
      "Epoch 2: loss=-122.635, accuracy=1.000/1.000\n",
      "Epoch 3: loss=-204.050, accuracy=1.000/1.000\n",
      "Epoch 4: loss=-285.466, accuracy=1.000/1.000\n",
      "Epoch 5: loss=-366.881, accuracy=1.000/1.000\n",
      "Epoch 6: loss=-448.296, accuracy=1.000/1.000\n",
      "Epoch 7: loss=-529.711, accuracy=1.000/1.000\n",
      "Epoch 8: loss=-611.126, accuracy=1.000/1.000\n",
      "Epoch 9: loss=-692.541, accuracy=1.000/1.000\n",
      "Epoch 10: loss=-773.956, accuracy=1.000/1.000\n",
      "\n",
      "Final Test: final accuracy = 1.000\n"
     ]
    }
   ],
   "source": [
    "abalone_exec()"
   ]
  }
 ],
 "metadata": {
  "kernelspec": {
   "display_name": "Python 3",
   "language": "python",
   "name": "python3"
  },
  "language_info": {
   "codemirror_mode": {
    "name": "ipython",
    "version": 3
   },
   "file_extension": ".py",
   "mimetype": "text/x-python",
   "name": "python",
   "nbconvert_exporter": "python",
   "pygments_lexer": "ipython3",
   "version": "3.8.10"
  }
 },
 "nbformat": 4,
 "nbformat_minor": 5
}
