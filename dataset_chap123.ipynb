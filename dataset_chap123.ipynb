{
 "cells": [
  {
   "cell_type": "code",
   "execution_count": 2,
   "id": "fadb0551",
   "metadata": {},
   "outputs": [],
   "source": [
    "%run dataset.ipynb"
   ]
  },
  {
   "cell_type": "code",
   "execution_count": 3,
   "id": "a4807fa4",
   "metadata": {},
   "outputs": [],
   "source": [
    "class AbaloneDataset(Dataset):\n",
    "    def __init__(self):\n",
    "        super(AbaloneDataset, self).__init__('abalone', 'regression')\n",
    "    \n",
    "        rows, _ = load_csv('abalone.data.csv')\n",
    "\n",
    "        xs = np.zeros([len(rows), 10])\n",
    "        ys = np.zeros([len(rows), 1])\n",
    "\n",
    "        for n, row in enumerate(rows):\n",
    "            if row[0] == 'I': xs[n, 0] = 1\n",
    "            if row[0] == 'M': xs[n, 1] = 1\n",
    "            if row[0] == 'F': xs[n, 2] = 1\n",
    "            xs[n, 3:] = row[1:-1]\n",
    "            ys[n, :] = row[-1:]\n",
    "        \n",
    "        self.shuffle_data(xs, ys, 0.8)\n",
    "        \n",
    "    def visualize(self, xs, estimates, answers):\n",
    "        for n in range(len(xs)):\n",
    "            x, est, ans = xs[n], estimates[n], answers[n]\n",
    "            xstr = vector_to_str(x, '%4.2f')\n",
    "            print('{} => 추정 {:4.1f} : 정답 {:4.1f}'.\n",
    "                  format(xstr, est[0], ans[0]))"
   ]
  },
  {
   "cell_type": "code",
   "execution_count": 4,
   "id": "67e71a74",
   "metadata": {},
   "outputs": [],
   "source": [
    "class PulsarDataset(Dataset):\n",
    "    def __init__(self):\n",
    "        super(PulsarDataset, self).__init__('pulsar', 'binary')\n",
    "    \n",
    "        rows, _ = load_csv('pulsar_stars.csv')\n",
    "\n",
    "        data = np.asarray(rows, dtype='float32')\n",
    "        self.shuffle_data(data[:,:-1], data[:,-1:], 0.8)\n",
    "        self.target_names = ['별', '펄서']\n",
    "        \n",
    "    def visualize(self, xs, estimates, answers):\n",
    "        for n in range(len(xs)):\n",
    "            x, est, ans = xs[n], estimates[n], answers[n]\n",
    "            xstr = vector_to_str(x, '%5.1f', 3)\n",
    "            estr = self.target_names[int(round(est[0]))]\n",
    "            astr = self.target_names[int(round(ans[0]))]\n",
    "            rstr = 'O'\n",
    "            if estr != astr: rstr = 'X'\n",
    "            print('{} => 추정 {}(확률 {:4.2f}) : 정답 {} => {}'. \\\n",
    "                  format(xstr, estr, est[0], astr, rstr))"
   ]
  },
  {
   "cell_type": "code",
   "execution_count": 5,
   "id": "57b7a486",
   "metadata": {},
   "outputs": [],
   "source": [
    "class SteelDataset(Dataset):\n",
    "    def __init__(self):\n",
    "        super(SteelDataset, self).__init__('steel', 'select')\n",
    "    \n",
    "        rows, headers = load_csv('faults.csv')\n",
    "\n",
    "        data = np.asarray(rows, dtype='float32')\n",
    "        self.shuffle_data(data[:,:-7], data[:,-7:], 0.8)\n",
    "        \n",
    "        self.target_names = headers[-7:]\n",
    "        \n",
    "    def visualize(self, xs, estimates, answers):\n",
    "        show_select_results(estimates, answers, self.target_names)"
   ]
  },
  {
   "cell_type": "code",
   "execution_count": 6,
   "id": "4ff01ec9",
   "metadata": {},
   "outputs": [],
   "source": [
    "class PulsarSelectDataset(Dataset):\n",
    "    def __init__(self):\n",
    "        super(PulsarSelectDataset, self).__init__('pulsarselect', 'select')\n",
    "    \n",
    "        rows, _ = load_csv('pulsar_stars.csv')\n",
    "\n",
    "        data = np.asarray(rows, dtype='float32')\n",
    "        self.shuffle_data(data[:,:-1], onehot(data[:,-1], 2), 0.8)\n",
    "        self.target_names = ['별', '펄서']\n",
    "        \n",
    "    def visualize(self, xs, estimates, answers):\n",
    "        show_select_results(estimates, answers, self.target_names)"
   ]
  },
  {
   "cell_type": "code",
   "execution_count": 8,
   "id": "c8d733df",
   "metadata": {},
   "outputs": [],
   "source": [
    "###########################################################################\n",
    "class BinaryDataset(Dataset):\n",
    "    def __init__(self):\n",
    "        super(BinaryDataset, self).__init__('binary', 'binary')\n",
    "    \n",
    "        rows, _ = load_csv('classification.csv')\n",
    "\n",
    "        data = np.asarray(rows, dtype='float32')\n",
    "        #파일에서 읽은 각 행의 마지막 원소가 정답 레이블 정보이기 때문에 data[:,:-1]를 지정\n",
    "        self.shuffle_data(data[:,:-1], data[:,-1:], 0.8)\n",
    "        self.target_names = ['실패', '성공']\n",
    "        \n",
    "    def visualize(self, xs, estimates, answers):\n",
    "        for n in range(len(xs)):\n",
    "            x, est, ans = xs[n], estimates[n], answers[n]\n",
    "            #vector_to_str()함수를 이용해 입력 일부를 문자열로 표현해 어떤 데이터가 입력으로 들어와 처리되는지 볼 수 있게함\n",
    "            xstr = vector_to_str(x, '%5.1f', 3)\n",
    "            #반올림 기능을 이용해 추정 결과와 정답을 각각 '실패'와 '성공' 중 하나로 준비한다.\n",
    "            estr = self.target_names[int(round(est[0]))]\n",
    "            astr = self.target_names[int(round(ans[0]))]\n",
    "            rstr = 'O'\n",
    "            if estr != astr: rstr = 'X'\n",
    "            print('{} => 추정 {}(확률 {:4.2f}) : 정답 {} => {}'. \\\n",
    "                  format(xstr, estr, est[0], astr, rstr))"
   ]
  },
  {
   "cell_type": "code",
   "execution_count": 10,
   "id": "008529fe",
   "metadata": {},
   "outputs": [],
   "source": [
    "class BinarySelectDataset(Dataset):\n",
    "    def __init__(self):\n",
    "        super(BinarySelectDataset, self).__init__('binaryselect', 'select')\n",
    "    \n",
    "        rows, _ = load_csv('classification.csv')\n",
    "\n",
    "        data = np.asarray(rows, dtype='float32')\n",
    "        self.shuffle_data(data[:,:-1], onehot(data[:,-1], 2), 0.8)\n",
    "        self.target_names = ['실패', '성공']\n",
    "        \n",
    "    def visualize(self, xs, estimates, answers):\n",
    "        show_select_results(estimates, answers, self.target_names)"
   ]
  },
  {
   "cell_type": "code",
   "execution_count": 12,
   "id": "c9fed178",
   "metadata": {},
   "outputs": [],
   "source": [
    "class CreditCardDataset(Dataset):\n",
    "    def __init__(self):\n",
    "        super(CreditCardDataset, self).__init__('creditcard', 'binary')\n",
    "    \n",
    "        rows, _ = load_csv('creditcard.csv')\n",
    "\n",
    "        data = np.asarray(rows, dtype='float32')\n",
    "        #파일에서 읽은 각 행의 마지막 원소가 정답 레이블 정보이기 때문에 data[:,:-1]를 지정\n",
    "        self.shuffle_data(data[:,:-1], data[:,-1:], 0.8)\n",
    "        self.target_names = ['사기X', '사기O']\n",
    "        \n",
    "    def visualize(self, xs, estimates, answers):\n",
    "        for n in range(len(xs)):\n",
    "            x, est, ans = xs[n], estimates[n], answers[n]\n",
    "            #vector_to_str()함수를 이용해 입력 일부를 문자열로 표현해 어떤 데이터가 입력으로 들어와 처리되는지 볼 수 있게함\n",
    "            xstr = vector_to_str(x, '%5.1f', 3)\n",
    "            #반올림 기능을 이용해 추정 결과와 정답을 각각 '사기X'와 '사기O' 중 하나로 준비한다.\n",
    "            estr = self.target_names[int(round(est[0]))]\n",
    "            astr = self.target_names[int(round(ans[0]))]\n",
    "            rstr = 'O'\n",
    "            if estr != astr: rstr = 'X'\n",
    "            print('{} => 추정 {}(확률 {:4.2f}) : 정답 {} => {}'. \\\n",
    "                  format(xstr, estr, est[0], astr, rstr))"
   ]
  },
  {
   "cell_type": "code",
   "execution_count": 14,
   "id": "6a3eb531",
   "metadata": {},
   "outputs": [],
   "source": [
    "class CreditSelectDataset(Dataset):\n",
    "    def __init__(self):\n",
    "        super(CreditSelectDataset, self).__init__('creditselect', 'select')\n",
    "    \n",
    "        rows, _ = load_csv('creditcard.csv')\n",
    "\n",
    "        data = np.asarray(rows, dtype='float32')\n",
    "        self.shuffle_data(data[:,:-1], onehot(data[:,-1], 2), 0.8)\n",
    "        self.target_names = ['사기X', '사기O']\n",
    "        \n",
    "    def visualize(self, xs, estimates, answers):\n",
    "        show_select_results(estimates, answers, self.target_names)"
   ]
  },
  {
   "cell_type": "code",
   "execution_count": null,
   "id": "66a04168",
   "metadata": {},
   "outputs": [],
   "source": []
  }
 ],
 "metadata": {
  "kernelspec": {
   "display_name": "Python 3",
   "language": "python",
   "name": "python3"
  },
  "language_info": {
   "codemirror_mode": {
    "name": "ipython",
    "version": 3
   },
   "file_extension": ".py",
   "mimetype": "text/x-python",
   "name": "python",
   "nbconvert_exporter": "python",
   "pygments_lexer": "ipython3",
   "version": "3.8.10"
  }
 },
 "nbformat": 4,
 "nbformat_minor": 5
}
