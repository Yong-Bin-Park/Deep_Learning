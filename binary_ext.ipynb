{
 "cells": [
  {
   "cell_type": "code",
   "execution_count": 1,
   "id": "7e9d05a0",
   "metadata": {},
   "outputs": [],
   "source": [
    "%run binary.ipynb"
   ]
  },
  {
   "cell_type": "code",
   "execution_count": 2,
   "id": "87f625c9",
   "metadata": {},
   "outputs": [],
   "source": [
    "def binary_exec(epoch_count=10, mb_size=10, report=1, adjust_ratio=False):\n",
    "    load_binary_dataset(adjust_ratio)\n",
    "    init_model()\n",
    "    train_and_test(epoch_count, mb_size, report)"
   ]
  },
  {
   "cell_type": "code",
   "execution_count": 2,
   "id": "0b71d0b1",
   "metadata": {},
   "outputs": [],
   "source": [
    "def load_binary_dataset(adjust_ratio):\n",
    "    success, fail = [], []\n",
    "    with open('classification.csv') as csvfile:\n",
    "        csvreader = csv.reader(csvfile)\n",
    "        next(csvreader, None)\n",
    "        rows = []\n",
    "        #성공과 실패의 데이터를 나누어 담는다\n",
    "        for row in csvreader:\n",
    "            \n",
    "            \n",
    "            if row[2] == '1.0': success.append(row)\n",
    "            else: fail.append(row)\n",
    "            \n",
    "    global data, input_cnt, output_cnt\n",
    "    input_cnt, output_cnt = 2, 1\n",
    "    \n",
    "    fail_cnt, success_cnt = len(fail), len(success)\n",
    "    print(success_cnt)\n",
    "    \n",
    "    \n",
    "    #매개 변수 값이 True인 경우\n",
    "    if adjust_ratio:\n",
    "        #실패의 두배 길이로 데이터를 만들고\n",
    "        data = np.zeros([2*fail_cnt, 3])\n",
    "        #실패 데이터를 넣어줌\n",
    "        data[0:fail_cnt, :] = np.asarray(fail, dtype='float32')\n",
    "        #반복문을 통해서 실패데이터와 같은 수 만큼 성공데이터를 넣어 줌\n",
    "        for n in range(fail_cnt):\n",
    "            \n",
    "                data[fail_cnt+n] = np.asarray(success[n % success_cnt], dtype='float32')\n",
    "            \n",
    "                \n",
    "    #매개변수 값이 False인 경우 불균형에 대한 고려 없이 별과 펄서 데이터를 넣어줌\n",
    "    else:\n",
    "        data = np.zeros([fail_cnt+success_cnt, 3])\n",
    "        data[0:fail_cnt, :] = np.asarray(fail, dtype='float32')\n",
    "        data[fail_cnt:, :] = np.asarray(success, dtype='float32')\n",
    "    "
   ]
  },
  {
   "cell_type": "code",
   "execution_count": 4,
   "id": "c6c3f26c",
   "metadata": {},
   "outputs": [],
   "source": [
    "def eval_accuracy(output, y):\n",
    "    # Confusion Matrix\n",
    "    est_yes = np.greater(output, 0)\n",
    "    ans_yes = np.greater(y, 0.5)\n",
    "    est_no = np.logical_not(est_yes)\n",
    "    ans_no = np.logical_not(ans_yes)\n",
    "    \n",
    "    # precision recall f1 score을 위한\n",
    "    tp = np.sum(np.logical_and(est_yes, ans_yes))\n",
    "    fp = np.sum(np.logical_and(est_yes, ans_no))\n",
    "    fn = np.sum(np.logical_and(est_no, ans_yes))\n",
    "    tn = np.sum(np.logical_and(est_no, ans_no))\n",
    "    \n",
    "    accuracy = safe_div(tp+tn, tp+tn+fp+fn)\n",
    "    precision = safe_div(tp, tp+fp)\n",
    "    recall = safe_div(tp, tp+fn)\n",
    "    f1 = 2 * safe_div(recall*precision, recall+precision)\n",
    "    \n",
    "    return [accuracy, precision, recall, f1]\n",
    "\n",
    "def safe_div(p, q):\n",
    "    #타입 오류 방지를 위한 형변환\n",
    "    p, q = float(p), float(q)\n",
    "    #0 나누기 오류를 방지하는 예외 처리\n",
    "    if np.abs(q) < 1.0e-20: return np.sign(p)\n",
    "    return p / q"
   ]
  },
  {
   "cell_type": "code",
   "execution_count": 5,
   "id": "e944823c",
   "metadata": {},
   "outputs": [],
   "source": [
    "def train_and_test(epoch_count, mb_size, report):\n",
    "    step_count = arrange_data(mb_size)\n",
    "    test_x, test_y = get_test_data()\n",
    "    \n",
    "    for epoch in range(epoch_count):\n",
    "        losses = []\n",
    "        \n",
    "        for n in range(step_count):\n",
    "            train_x, train_y = get_train_data(mb_size, n)\n",
    "            loss, _ = run_train(train_x, train_y)\n",
    "            losses.append(loss)\n",
    "            \n",
    "        if report > 0 and (epoch+1) % report == 0:\n",
    "            acc = run_test(test_x, test_y)\n",
    "            acc_str = ','.join(['%5.3f']*4) % tuple(acc)\n",
    "            print('Epoch {}: loss={:5.3f}, result={}'. \\\n",
    "                  format(epoch+1, np.mean(losses), acc_str))\n",
    "            \n",
    "    acc = run_test(test_x, test_y)\n",
    "    acc_str = ','.join(['%5.3f']*4) % tuple(acc)\n",
    "    print('\\nFinal Test: final result = {}'.format(acc_str))"
   ]
  }
 ],
 "metadata": {
  "kernelspec": {
   "display_name": "Python 3",
   "language": "python",
   "name": "python3"
  },
  "language_info": {
   "codemirror_mode": {
    "name": "ipython",
    "version": 3
   },
   "file_extension": ".py",
   "mimetype": "text/x-python",
   "name": "python",
   "nbconvert_exporter": "python",
   "pygments_lexer": "ipython3",
   "version": "3.8.10"
  }
 },
 "nbformat": 4,
 "nbformat_minor": 5
}
