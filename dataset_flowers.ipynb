{
 "cells": [
  {
   "cell_type": "code",
   "execution_count": 2,
   "id": "e26c5e54",
   "metadata": {},
   "outputs": [],
   "source": [
    "%run dataset.ipynb"
   ]
  },
  {
   "cell_type": "code",
   "execution_count": 3,
   "id": "daefc5cc",
   "metadata": {},
   "outputs": [],
   "source": [
    "class FlowersDataset(Dataset):\n",
    "    pass"
   ]
  },
  {
   "cell_type": "code",
   "execution_count": 4,
   "id": "5d85b456",
   "metadata": {},
   "outputs": [],
   "source": [
    "def flowers_init(self, resolution=[100,100], input_shape=[-1]):\n",
    "    super(FlowersDataset, self).__init__('flowers', 'select')\n",
    "    \n",
    "    path = 'flowers'\n",
    "    self.target_names = list_dir(path)\n",
    "\n",
    "    images = []\n",
    "    idxs = []\n",
    "    \n",
    "    for dx, dname in enumerate(self.target_names):\n",
    "        subpath = path + '/' + dname\n",
    "        filenames = list_dir(subpath)\n",
    "        for fname in filenames:\n",
    "            if fname[-4:] != '.jpg':\n",
    "                continue\n",
    "            imagepath = os.path.join(subpath, fname)\n",
    "            pixels = load_image_pixels(imagepath, resolution, input_shape)\n",
    "            images.append(pixels)\n",
    "            idxs.append(dx)\n",
    "\n",
    "    #칼라 이미지 RGB성분을 나타내는 3을 추가해 3차원 형태로 저장\n",
    "    self.image_shape = resolution + [3]\n",
    "\n",
    "    #8비트 픽셀값을 갖는 images 배열을 행렬 연산에 적합한 실수형으로 변환해 xs로 지정하고\n",
    "    #idxs 리스트를 원-핫 벡터로 변환하여 ys로 지정한다.\n",
    "    xs = np.asarray(images, np.float32)\n",
    "    ys = onehot(idxs, len(self.target_names))\n",
    "\n",
    "    self.shuffle_data(xs, ys, 0.8)\n",
    "\n",
    "FlowersDataset.__init__ = flowers_init"
   ]
  },
  {
   "cell_type": "code",
   "execution_count": 5,
   "id": "7070b74a",
   "metadata": {},
   "outputs": [],
   "source": [
    "def flowers_visualize(self, xs, estimates, answers):\n",
    "    draw_images_horz(xs, self.image_shape)\n",
    "    show_select_results(estimates, answers, self.target_names)\n",
    "\n",
    "FlowersDataset.visualize = flowers_visualize"
   ]
  },
  {
   "cell_type": "code",
   "execution_count": 41,
   "id": "821be430",
   "metadata": {},
   "outputs": [],
   "source": [
    "#날씨 이미지 분류\n",
    "class WeathersDataset(Dataset):\n",
    "    pass"
   ]
  },
  {
   "cell_type": "code",
   "execution_count": 42,
   "id": "9887591a",
   "metadata": {},
   "outputs": [],
   "source": [
    "def weathers_init(self, resolution=[100,100], input_shape=[-1]):\n",
    "    super(WeathersDataset, self).__init__('weathers', 'select')\n",
    "    \n",
    "    path = 'weathers'\n",
    "    self.target_names = list_dir(path)\n",
    "\n",
    "    images = []\n",
    "    idxs = []\n",
    "    \n",
    "    for dx, dname in enumerate(self.target_names):\n",
    "        subpath = path + '/' + dname\n",
    "        filenames = list_dir(subpath)\n",
    "        for fname in filenames:\n",
    "            if fname[-4:] != '.jpg':\n",
    "                continue\n",
    "            imagepath = os.path.join(subpath, fname)\n",
    "            pixels = load_image_pixels(imagepath, resolution, input_shape)\n",
    "            images.append(pixels)\n",
    "            idxs.append(dx)\n",
    "\n",
    "    #칼라 이미지 RGB성분을 나타내는 3을 추가해 3차원 형태로 저장\n",
    "    self.image_shape = resolution + [3]\n",
    "\n",
    "    #8비트 픽셀값을 갖는 images 배열을 행렬 연산에 적합한 실수형으로 변환해 xs로 지정하고\n",
    "    #idxs 리스트를 원-핫 벡터로 변환하여 ys로 지정한다.\n",
    "    xs = np.asarray(images, np.float32)\n",
    "    ys = onehot(idxs, len(self.target_names))\n",
    "\n",
    "    self.shuffle_data(xs, ys, 0.8)\n",
    "\n",
    "WeathersDataset.__init__ = weathers_init"
   ]
  },
  {
   "cell_type": "code",
   "execution_count": 43,
   "id": "039317a5",
   "metadata": {},
   "outputs": [],
   "source": [
    "def weathers_visualize(self, xs, estimates, answers):\n",
    "    draw_images_horz(xs, self.image_shape)\n",
    "    show_select_results(estimates, answers, self.target_names)\n",
    "\n",
    "WeathersDataset.visualize = weathers_visualize"
   ]
  },
  {
   "cell_type": "code",
   "execution_count": null,
   "id": "186d0b7e",
   "metadata": {},
   "outputs": [],
   "source": []
  }
 ],
 "metadata": {
  "kernelspec": {
   "display_name": "Python 3",
   "language": "python",
   "name": "python3"
  },
  "language_info": {
   "codemirror_mode": {
    "name": "ipython",
    "version": 3
   },
   "file_extension": ".py",
   "mimetype": "text/x-python",
   "name": "python",
   "nbconvert_exporter": "python",
   "pygments_lexer": "ipython3",
   "version": "3.8.10"
  }
 },
 "nbformat": 4,
 "nbformat_minor": 5
}
