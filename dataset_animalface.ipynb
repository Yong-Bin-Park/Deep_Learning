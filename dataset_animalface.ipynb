{
 "cells": [
  {
   "cell_type": "code",
   "execution_count": 1,
   "id": "23f75cd6",
   "metadata": {},
   "outputs": [],
   "source": [
    "%run dataset.ipynb"
   ]
  },
  {
   "cell_type": "code",
   "execution_count": 2,
   "id": "6e7efe36",
   "metadata": {},
   "outputs": [],
   "source": [
    "class AnimalfaceDataset(Dataset):\n",
    "    pass"
   ]
  },
  {
   "cell_type": "code",
   "execution_count": 42,
   "id": "c9c8601c",
   "metadata": {},
   "outputs": [],
   "source": [
    "def animalface_init(self, resolution=[100,100], input_shape=[-1]):\n",
    "    super(AnimalfaceDataset, self).__init__('animalface', 'select')\n",
    "    \n",
    "    path = 'animalface'\n",
    "    self.target_names = list_dir(path)\n",
    "\n",
    "    images = []\n",
    "    idxs = []\n",
    "    \n",
    "    for dx, dname in enumerate(self.target_names):\n",
    "        subpath = path + '/' + dname\n",
    "        filenames = list_dir(subpath)\n",
    "        for fname in filenames:\n",
    "            if fname[-4:] != '.jpg':\n",
    "                continue\n",
    "            imagepath = os.path.join(subpath, fname)\n",
    "            pixels = load_image_pixels(imagepath, resolution, input_shape)\n",
    "            images.append(pixels)\n",
    "            idxs.append(dx)\n",
    "\n",
    "    #칼라 이미지 RGB성분을 나타내는 3을 추가해 3차원 형태로 저장\n",
    "    self.image_shape = resolution + [3]\n",
    "\n",
    "    \"\"\" 코드에서 'setting an array element with a sequence.'에러가 계속 떠서\n",
    "    혹시나 이미지 픽셀값을 갖는 images 배열 크기를 확인해봤는데 10000,40000,10000으로 세개가 다른크기가\n",
    "    발견되었다. 위치는 images[1046],images[1447],images[1600]\n",
    "    number = 0\n",
    "    for i in images:\n",
    "        number += 1\n",
    "        if len(i) != 30000:\n",
    "            print(number)\n",
    "            \"\"\"\n",
    "    #배열 크기가 다른 값들 삭제\n",
    "    del images[1046]\n",
    "    del images[1447]\n",
    "    del images[1600]\n",
    "    \n",
    "    #8비트 픽셀값을 갖는 images 배열을 행렬 연산에 적합한 실수형으로 변환해 xs로 지정하고\n",
    "    #idxs 리스트를 원-핫 벡터로 변환하여 ys로 지정한다.\n",
    "    xs = np.asarray(images, np.float32)\n",
    "    ys = onehot(idxs, len(self.target_names))\n",
    "\n",
    "    self.shuffle_data(xs, ys, 0.8)\n",
    "\n",
    "AnimalfaceDataset.__init__ = animalface_init"
   ]
  },
  {
   "cell_type": "code",
   "execution_count": 39,
   "id": "b95d9cae",
   "metadata": {},
   "outputs": [],
   "source": [
    "def animalface_visualize(self, xs, estimates, answers):\n",
    "    draw_images_horz(xs, self.image_shape)\n",
    "    show_select_results(estimates, answers, self.target_names)\n",
    "\n",
    "AnimalfaceDataset.visualize = animalface_visualize"
   ]
  },
  {
   "cell_type": "code",
   "execution_count": null,
   "id": "747b0501",
   "metadata": {},
   "outputs": [],
   "source": []
  }
 ],
 "metadata": {
  "kernelspec": {
   "display_name": "Python 3",
   "language": "python",
   "name": "python3"
  },
  "language_info": {
   "codemirror_mode": {
    "name": "ipython",
    "version": 3
   },
   "file_extension": ".py",
   "mimetype": "text/x-python",
   "name": "python",
   "nbconvert_exporter": "python",
   "pygments_lexer": "ipython3",
   "version": "3.8.10"
  }
 },
 "nbformat": 4,
 "nbformat_minor": 5
}
