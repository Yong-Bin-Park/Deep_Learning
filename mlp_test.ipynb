{
 "cells": [
  {
   "cell_type": "markdown",
   "id": "8b844acb",
   "metadata": {},
   "source": [
    "---------------------------------------------------------------------------\n",
    "전복 고리 수 추정 문제"
   ]
  },
  {
   "cell_type": "code",
   "execution_count": 1,
   "id": "cd60fc4a",
   "metadata": {},
   "outputs": [
    {
     "name": "stdout",
     "output_type": "stream",
     "text": [
      "은닉 계층 0개를 갖는 다층 퍼셉트론이 작동되었습니다.\n",
      "Epoch 1: loss=33.707, accuracy=0.554/0.816\n",
      "Epoch 2: loss=8.238, accuracy=0.818/0.818\n",
      "Epoch 3: loss=7.597, accuracy=0.810/0.815\n",
      "Epoch 4: loss=7.487, accuracy=0.809/0.812\n",
      "Epoch 5: loss=7.405, accuracy=0.808/0.813\n",
      "Epoch 6: loss=7.335, accuracy=0.808/0.813\n",
      "Epoch 7: loss=7.272, accuracy=0.809/0.811\n",
      "Epoch 8: loss=7.222, accuracy=0.807/0.813\n",
      "Epoch 9: loss=7.175, accuracy=0.808/0.814\n",
      "Epoch 10: loss=7.133, accuracy=0.809/0.813\n",
      "\n",
      "Final Test: final accuracy = 0.813\n"
     ]
    }
   ],
   "source": [
    "%run abalone.ipynb\n",
    "%run mlp.ipynb\n",
    "set_hidden([])\n",
    "abalone_exec()"
   ]
  },
  {
   "cell_type": "code",
   "execution_count": 2,
   "id": "eb8c8c01",
   "metadata": {},
   "outputs": [
    {
     "name": "stdout",
     "output_type": "stream",
     "text": [
      "은닉 계층 하나를 갖는 다층 퍼셉트론이 작동되었습니다.\n",
      "Epoch 10: loss=6.671, accuracy=0.809/0.795\n",
      "Epoch 20: loss=6.119, accuracy=0.818/0.810\n",
      "Epoch 30: loss=5.443, accuracy=0.829/0.818\n",
      "Epoch 40: loss=5.015, accuracy=0.837/0.832\n",
      "Epoch 50: loss=4.889, accuracy=0.840/0.832\n",
      "\n",
      "Final Test: final accuracy = 0.832\n"
     ]
    }
   ],
   "source": [
    "set_hidden(4)\n",
    "abalone_exec(epoch_count=50, report=10)"
   ]
  },
  {
   "cell_type": "code",
   "execution_count": 3,
   "id": "2fced48a",
   "metadata": {},
   "outputs": [
    {
     "name": "stdout",
     "output_type": "stream",
     "text": [
      "은닉 계층 하나를 갖는 다층 퍼셉트론이 작동되었습니다.\n",
      "Epoch 10: loss=6.671, accuracy=0.807/0.812\n",
      "Epoch 20: loss=6.142, accuracy=0.816/0.818\n",
      "Epoch 30: loss=5.473, accuracy=0.828/0.816\n",
      "Epoch 40: loss=5.020, accuracy=0.837/0.820\n",
      "Epoch 50: loss=4.863, accuracy=0.839/0.840\n",
      "\n",
      "Final Test: final accuracy = 0.840\n"
     ]
    }
   ],
   "source": [
    "abalone_exec(epoch_count=50, report=10)   #난수 함수의 효과확인을 위해 동일한 신경망 학습 실험을 반복"
   ]
  },
  {
   "cell_type": "markdown",
   "id": "cf35dcaf",
   "metadata": {},
   "source": [
    "---------------------------------------------------------------------------\n",
    "천체 펄서 판정 문제"
   ]
  },
  {
   "cell_type": "code",
   "execution_count": 4,
   "id": "c4bf06f7",
   "metadata": {},
   "outputs": [
    {
     "name": "stdout",
     "output_type": "stream",
     "text": [
      "은닉 계층 하나를 갖는 다층 퍼셉트론이 작동되었습니다.\n",
      "Epoch 10: loss=0.094, accuracy=0.972/0.972\n",
      "Epoch 20: loss=0.091, accuracy=0.973/0.974\n",
      "Epoch 30: loss=0.091, accuracy=0.973/0.974\n",
      "Epoch 40: loss=0.089, accuracy=0.974/0.974\n",
      "Epoch 50: loss=0.089, accuracy=0.974/0.975\n",
      "\n",
      "Final Test: final accuracy = 0.975\n"
     ]
    }
   ],
   "source": [
    "#은닉 계층 하나로 풀어보는 펄서 여부 판정 문제\n",
    "%run pulsar.ipynb\n",
    "%run mlp.ipynb\n",
    "set_hidden(6)\n",
    "pulsar_exec(epoch_count=50, report=10)"
   ]
  },
  {
   "cell_type": "code",
   "execution_count": 6,
   "id": "e9be0f49",
   "metadata": {},
   "outputs": [
    {
     "name": "stdout",
     "output_type": "stream",
     "text": [
      "은닉 계층 1개를 갖는 다층 퍼셉트론이 작동되었습니다.\n",
      "Epoch 10: loss=0.090, accuracy=0.973/0.969\n",
      "Epoch 20: loss=0.087, accuracy=0.974/0.969\n",
      "Epoch 30: loss=0.085, accuracy=0.975/0.973\n",
      "Epoch 40: loss=0.083, accuracy=0.976/0.972\n",
      "Epoch 50: loss=0.083, accuracy=0.976/0.972\n",
      "\n",
      "Final Test: final accuracy = 0.972\n"
     ]
    }
   ],
   "source": [
    "#두가지 표현법, 이번에는 크기 6의 원소 하나만 가진 리스트로 은닉 계층 구성 정보를 바꾸어 지정\n",
    "set_hidden([6])\n",
    "pulsar_exec(epoch_count=50, report=10)"
   ]
  },
  {
   "cell_type": "code",
   "execution_count": 7,
   "id": "c705cf92",
   "metadata": {},
   "outputs": [
    {
     "name": "stdout",
     "output_type": "stream",
     "text": [
      "은닉 계층 2개를 갖는 다층 퍼셉트론이 작동되었습니다.\n",
      "Epoch 40: loss=0.090, accuracy=0.973/0.972\n",
      "Epoch 80: loss=0.086, accuracy=0.975/0.974\n",
      "Epoch 120: loss=0.084, accuracy=0.976/0.971\n",
      "Epoch 160: loss=0.081, accuracy=0.976/0.972\n",
      "Epoch 200: loss=0.081, accuracy=0.976/0.973\n",
      "\n",
      "Final Test: final accuracy = 0.973\n"
     ]
    }
   ],
   "source": [
    "#은닉 계층 두 개로 풀어보는 펄서 여부 판정 문제\n",
    "set_hidden([12,6])\n",
    "pulsar_exec(epoch_count=200, report=40)"
   ]
  },
  {
   "cell_type": "markdown",
   "id": "ecf8dfa8",
   "metadata": {},
   "source": [
    "---------------------------------------------------------------------------\n",
    "철판 재료의 불량유형 판별 문제"
   ]
  },
  {
   "cell_type": "code",
   "execution_count": 8,
   "id": "5d208776",
   "metadata": {},
   "outputs": [
    {
     "name": "stdout",
     "output_type": "stream",
     "text": [
      "은닉 계층 하나를 갖는 다층 퍼셉트론이 작동되었습니다.\n",
      "Epoch 10: loss=1.849, accuracy=0.352/0.325\n",
      "Epoch 20: loss=1.786, accuracy=0.352/0.325\n",
      "Epoch 30: loss=1.747, accuracy=0.352/0.325\n",
      "Epoch 40: loss=1.723, accuracy=0.352/0.325\n",
      "Epoch 50: loss=1.708, accuracy=0.352/0.325\n",
      "\n",
      "Final Test: final accuracy = 0.325\n"
     ]
    }
   ],
   "source": [
    "%run steel.ipynb\n",
    "%run mlp.ipynb\n",
    "set_hidden(10)\n",
    "steel_exec(epoch_count=50, report=10)"
   ]
  },
  {
   "cell_type": "markdown",
   "id": "aec0057e",
   "metadata": {},
   "source": [
    "은닉 계층 세 개로 풀어보는 철판의 불량유형 판별 문제"
   ]
  },
  {
   "cell_type": "code",
   "execution_count": 9,
   "id": "3c95a99f",
   "metadata": {},
   "outputs": [
    {
     "name": "stdout",
     "output_type": "stream",
     "text": [
      "은닉 계층 3개를 갖는 다층 퍼셉트론이 작동되었습니다.\n",
      "Epoch 10: loss=1.855, accuracy=0.346/0.350\n",
      "Epoch 20: loss=1.795, accuracy=0.346/0.350\n",
      "Epoch 30: loss=1.758, accuracy=0.346/0.350\n",
      "Epoch 40: loss=1.735, accuracy=0.346/0.350\n",
      "Epoch 50: loss=1.721, accuracy=0.346/0.350\n",
      "\n",
      "Final Test: final accuracy = 0.350\n"
     ]
    }
   ],
   "source": [
    "set_hidden([12,6,4])\n",
    "steel_exec(epoch_count=50, report=10)"
   ]
  },
  {
   "cell_type": "markdown",
   "id": "98cd99fc",
   "metadata": {},
   "source": [
    "학습률을 바꾸어 풀어보는 철판의 불량유형 판별 문제"
   ]
  },
  {
   "cell_type": "code",
   "execution_count": 10,
   "id": "85babe8c",
   "metadata": {},
   "outputs": [
    {
     "name": "stdout",
     "output_type": "stream",
     "text": [
      "은닉 계층 3개를 갖는 다층 퍼셉트론이 작동되었습니다.\n",
      "Epoch 10: loss=1.738, accuracy=0.257/0.182\n",
      "Epoch 20: loss=1.618, accuracy=0.315/0.468\n",
      "Epoch 30: loss=1.604, accuracy=0.390/0.389\n",
      "Epoch 40: loss=1.594, accuracy=0.422/0.471\n",
      "Epoch 50: loss=1.584, accuracy=0.444/0.471\n",
      "\n",
      "Final Test: final accuracy = 0.471\n"
     ]
    }
   ],
   "source": [
    "LEARNING_RATE=0.0001\n",
    "hidden_config = [12,6,4]\n",
    "steel_exec(epoch_count=50, report=10)"
   ]
  },
  {
   "cell_type": "code",
   "execution_count": null,
   "id": "c675b401",
   "metadata": {},
   "outputs": [],
   "source": []
  }
 ],
 "metadata": {
  "kernelspec": {
   "display_name": "Python 3",
   "language": "python",
   "name": "python3"
  },
  "language_info": {
   "codemirror_mode": {
    "name": "ipython",
    "version": 3
   },
   "file_extension": ".py",
   "mimetype": "text/x-python",
   "name": "python",
   "nbconvert_exporter": "python",
   "pygments_lexer": "ipython3",
   "version": "3.8.10"
  }
 },
 "nbformat": 4,
 "nbformat_minor": 5
}
