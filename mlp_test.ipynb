{
 "cells": [
  {
   "cell_type": "markdown",
   "id": "ca8c4350",
   "metadata": {},
   "source": [
    "---------------------------------------------------------------------------\n",
    "전복 고리 수 추정 문제"
   ]
  },
  {
   "cell_type": "code",
   "execution_count": 1,
   "id": "cd60fc4a",
   "metadata": {},
   "outputs": [
    {
     "name": "stdout",
     "output_type": "stream",
     "text": [
      "은닉 계층 0개를 갖는 다층 퍼셉트론이 작동되었습니다.\n",
      "Epoch 1: loss=33.707, accuracy=0.554/0.816\n",
      "Epoch 2: loss=8.238, accuracy=0.818/0.818\n",
      "Epoch 3: loss=7.597, accuracy=0.810/0.815\n",
      "Epoch 4: loss=7.487, accuracy=0.809/0.812\n",
      "Epoch 5: loss=7.405, accuracy=0.808/0.813\n",
      "Epoch 6: loss=7.335, accuracy=0.808/0.813\n",
      "Epoch 7: loss=7.272, accuracy=0.809/0.811\n",
      "Epoch 8: loss=7.222, accuracy=0.807/0.813\n",
      "Epoch 9: loss=7.175, accuracy=0.808/0.814\n",
      "Epoch 10: loss=7.133, accuracy=0.809/0.813\n",
      "\n",
      "Final Test: final accuracy = 0.813\n"
     ]
    }
   ],
   "source": [
    "%run abalone.ipynb\n",
    "%run mlp.ipynb\n",
    "set_hidden([])\n",
    "abalone_exec()"
   ]
  },
  {
   "cell_type": "code",
   "execution_count": 2,
   "id": "eb8c8c01",
   "metadata": {},
   "outputs": [
    {
     "name": "stdout",
     "output_type": "stream",
     "text": [
      "은닉 계층 하나를 갖는 다층 퍼셉트론이 작동되었습니다.\n",
      "Epoch 10: loss=6.671, accuracy=0.809/0.795\n",
      "Epoch 20: loss=6.119, accuracy=0.818/0.810\n",
      "Epoch 30: loss=5.443, accuracy=0.829/0.818\n",
      "Epoch 40: loss=5.015, accuracy=0.837/0.832\n",
      "Epoch 50: loss=4.889, accuracy=0.840/0.832\n",
      "\n",
      "Final Test: final accuracy = 0.832\n"
     ]
    }
   ],
   "source": [
    "set_hidden(4)\n",
    "abalone_exec(epoch_count=50, report=10)"
   ]
  },
  {
   "cell_type": "code",
   "execution_count": 3,
   "id": "2fced48a",
   "metadata": {},
   "outputs": [
    {
     "name": "stdout",
     "output_type": "stream",
     "text": [
      "은닉 계층 하나를 갖는 다층 퍼셉트론이 작동되었습니다.\n",
      "Epoch 10: loss=6.671, accuracy=0.807/0.812\n",
      "Epoch 20: loss=6.142, accuracy=0.816/0.818\n",
      "Epoch 30: loss=5.473, accuracy=0.828/0.816\n",
      "Epoch 40: loss=5.020, accuracy=0.837/0.820\n",
      "Epoch 50: loss=4.863, accuracy=0.839/0.840\n",
      "\n",
      "Final Test: final accuracy = 0.840\n"
     ]
    }
   ],
   "source": [
    "abalone_exec(epoch_count=50, report=10)   #난수 함수의 효과확인을 위해 동일한 신경망 학습 실험을 반복"
   ]
  },
  {
   "cell_type": "markdown",
   "id": "cf35dcaf",
   "metadata": {},
   "source": [
    "---------------------------------------------------------------------------\n",
    "천체 펄서 판정 문제"
   ]
  },
  {
   "cell_type": "code",
   "execution_count": 4,
   "id": "c4bf06f7",
   "metadata": {},
   "outputs": [
    {
     "name": "stdout",
     "output_type": "stream",
     "text": [
      "은닉 계층 하나를 갖는 다층 퍼셉트론이 작동되었습니다.\n",
      "Epoch 10: loss=0.094, accuracy=0.972/0.972\n",
      "Epoch 20: loss=0.091, accuracy=0.973/0.974\n",
      "Epoch 30: loss=0.091, accuracy=0.973/0.974\n",
      "Epoch 40: loss=0.089, accuracy=0.974/0.974\n",
      "Epoch 50: loss=0.089, accuracy=0.974/0.975\n",
      "\n",
      "Final Test: final accuracy = 0.975\n"
     ]
    }
   ],
   "source": [
    "#은닉 계층 하나로 풀어보는 펄서 여부 판정 문제\n",
    "%run pulsar.ipynb\n",
    "%run mlp.ipynb\n",
    "set_hidden(6)\n",
    "pulsar_exec(epoch_count=50, report=10)"
   ]
  },
  {
   "cell_type": "code",
   "execution_count": 6,
   "id": "e9be0f49",
   "metadata": {},
   "outputs": [
    {
     "name": "stdout",
     "output_type": "stream",
     "text": [
      "은닉 계층 1개를 갖는 다층 퍼셉트론이 작동되었습니다.\n",
      "Epoch 10: loss=0.090, accuracy=0.973/0.969\n",
      "Epoch 20: loss=0.087, accuracy=0.974/0.969\n",
      "Epoch 30: loss=0.085, accuracy=0.975/0.973\n",
      "Epoch 40: loss=0.083, accuracy=0.976/0.972\n",
      "Epoch 50: loss=0.083, accuracy=0.976/0.972\n",
      "\n",
      "Final Test: final accuracy = 0.972\n"
     ]
    }
   ],
   "source": [
    "#두가지 표현법, 이번에는 크기 6의 원소 하나만 가진 리스트로 은닉 계층 구성 정보를 바꾸어 지정\n",
    "set_hidden([6])\n",
    "pulsar_exec(epoch_count=50, report=10)"
   ]
  },
  {
   "cell_type": "code",
   "execution_count": 7,
   "id": "c705cf92",
   "metadata": {},
   "outputs": [
    {
     "name": "stdout",
     "output_type": "stream",
     "text": [
      "은닉 계층 2개를 갖는 다층 퍼셉트론이 작동되었습니다.\n",
      "Epoch 40: loss=0.090, accuracy=0.973/0.972\n",
      "Epoch 80: loss=0.086, accuracy=0.975/0.974\n",
      "Epoch 120: loss=0.084, accuracy=0.976/0.971\n",
      "Epoch 160: loss=0.081, accuracy=0.976/0.972\n",
      "Epoch 200: loss=0.081, accuracy=0.976/0.973\n",
      "\n",
      "Final Test: final accuracy = 0.973\n"
     ]
    }
   ],
   "source": [
    "#은닉 계층 두 개로 풀어보는 펄서 여부 판정 문제\n",
    "set_hidden([12,6])\n",
    "pulsar_exec(epoch_count=200, report=40)"
   ]
  },
  {
   "cell_type": "markdown",
   "id": "487edade",
   "metadata": {},
   "source": [
    "첫 은닉계층은 12개의 퍼셉트론, 두 번째 은닉계층은 6개의 퍼셉트로으로 구성.\n",
    "참고로 이진 판단 문제에서 출력 계층은 하나의 퍼셉트론만 갖는다.\n",
    "\n",
    "다층 퍼셉트론의 은닉계층들은 갈수록 폭이 줄어드는 형태로 구성하는 것이 일반적이다.\n",
    "(데이터를 분석할 때는 처리과정을 거치면서 정보가 추상화되면서 압축되도록 유도할 필요가 있기 때문이다.)"
   ]
  },
  {
   "cell_type": "code",
   "execution_count": 3,
   "id": "a8db625f",
   "metadata": {},
   "outputs": [
    {
     "name": "stdout",
     "output_type": "stream",
     "text": [
      "Epoch 1: loss=0.139, result=0.965,0.975,0.624,0.761\n",
      "Epoch 2: loss=0.128, result=0.971,0.969,0.696,0.810\n",
      "Epoch 3: loss=0.130, result=0.973,0.951,0.734,0.828\n",
      "Epoch 4: loss=0.131, result=0.973,0.917,0.762,0.832\n",
      "Epoch 5: loss=0.130, result=0.975,0.953,0.755,0.843\n",
      "Epoch 6: loss=0.127, result=0.974,0.893,0.809,0.849\n",
      "Epoch 7: loss=0.130, result=0.972,0.950,0.718,0.818\n",
      "Epoch 8: loss=0.119, result=0.974,0.960,0.743,0.837\n",
      "Epoch 9: loss=0.116, result=0.974,0.971,0.727,0.832\n",
      "Epoch 10: loss=0.120, result=0.967,0.976,0.649,0.780\n",
      "\n",
      "Final Test: final result = 0.967,0.976,0.649,0.780\n"
     ]
    }
   ],
   "source": [
    "%run pulsar_ext.ipynb\n",
    "pulsar_exec()"
   ]
  },
  {
   "cell_type": "code",
   "execution_count": 4,
   "id": "9b1aac9d",
   "metadata": {},
   "outputs": [
    {
     "name": "stdout",
     "output_type": "stream",
     "text": [
      "Epoch 1: loss=0.405, result=0.923,0.939,0.902,0.920\n",
      "Epoch 2: loss=0.376, result=0.918,0.983,0.848,0.910\n",
      "Epoch 3: loss=0.377, result=0.904,0.879,0.934,0.906\n",
      "Epoch 4: loss=0.364, result=0.915,0.987,0.839,0.907\n",
      "Epoch 5: loss=0.378, result=0.925,0.941,0.905,0.923\n",
      "Epoch 6: loss=0.367, result=0.923,0.982,0.859,0.916\n",
      "Epoch 7: loss=0.369, result=0.917,0.986,0.844,0.909\n",
      "Epoch 8: loss=0.363, result=0.927,0.940,0.910,0.925\n",
      "Epoch 9: loss=0.349, result=0.926,0.981,0.867,0.920\n",
      "Epoch 10: loss=0.378, result=0.915,0.909,0.919,0.914\n",
      "\n",
      "Final Test: final result = 0.915,0.909,0.919,0.914\n"
     ]
    }
   ],
   "source": [
    "pulsar_exec(adjust_ratio=True)"
   ]
  },
  {
   "cell_type": "markdown",
   "id": "1bb3a834",
   "metadata": {},
   "source": [
    "비교해보기위해 2장에서 했던 정확도, 정밀도, 재현율, F1값을 출력해보았다."
   ]
  },
  {
   "cell_type": "markdown",
   "id": "ecf8dfa8",
   "metadata": {},
   "source": [
    "---------------------------------------------------------------------------\n",
    "철판 재료의 불량유형 판별 문제"
   ]
  },
  {
   "cell_type": "code",
   "execution_count": 1,
   "id": "5d208776",
   "metadata": {},
   "outputs": [
    {
     "name": "stdout",
     "output_type": "stream",
     "text": [
      "은닉 계층 하나를 갖는 다층 퍼셉트론이 작동되었습니다.\n",
      "Epoch 10: loss=1.849, accuracy=0.352/0.325\n",
      "Epoch 20: loss=1.786, accuracy=0.352/0.325\n",
      "Epoch 30: loss=1.747, accuracy=0.352/0.325\n",
      "Epoch 40: loss=1.723, accuracy=0.352/0.325\n",
      "Epoch 50: loss=1.708, accuracy=0.352/0.325\n",
      "\n",
      "Final Test: final accuracy = 0.325\n"
     ]
    }
   ],
   "source": [
    "%run steel.ipynb\n",
    "%run mlp.ipynb\n",
    "set_hidden(10)\n",
    "steel_exec(epoch_count=50, report=10)"
   ]
  },
  {
   "cell_type": "markdown",
   "id": "aec0057e",
   "metadata": {},
   "source": [
    "은닉 계층 세 개로 풀어보는 철판의 불량유형 판별 문제"
   ]
  },
  {
   "cell_type": "code",
   "execution_count": 9,
   "id": "3c95a99f",
   "metadata": {},
   "outputs": [
    {
     "name": "stdout",
     "output_type": "stream",
     "text": [
      "은닉 계층 3개를 갖는 다층 퍼셉트론이 작동되었습니다.\n",
      "Epoch 10: loss=1.855, accuracy=0.346/0.350\n",
      "Epoch 20: loss=1.795, accuracy=0.346/0.350\n",
      "Epoch 30: loss=1.758, accuracy=0.346/0.350\n",
      "Epoch 40: loss=1.735, accuracy=0.346/0.350\n",
      "Epoch 50: loss=1.721, accuracy=0.346/0.350\n",
      "\n",
      "Final Test: final accuracy = 0.350\n"
     ]
    }
   ],
   "source": [
    "set_hidden([12,6,4])\n",
    "steel_exec(epoch_count=50, report=10)"
   ]
  },
  {
   "cell_type": "markdown",
   "id": "cbf563b9",
   "metadata": {},
   "source": [
    "폭이 12,6,4로 점진적으로 줄어드는 은닉 계층 세 개를 갖는 다층 퍼셉트론 구조로 신경망을 바꿨지만\n",
    "역시 정확도가 변하지 않으며 얻어진 정확도도 만족스럽지 못함.\n",
    "\n",
    "#왜 이런 현상이 일어나는지 알고 대처하려면 신경망 출력이 이제까지처럼 단순히 숫자 나열이 아니라 실제 데이터 처리 결과를 일부라도 보여주는 방식으로 보완되어야 한다."
   ]
  },
  {
   "cell_type": "markdown",
   "id": "98cd99fc",
   "metadata": {},
   "source": [
    "학습률을 바꾸어 풀어보는 철판의 불량유형 판별 문제"
   ]
  },
  {
   "cell_type": "code",
   "execution_count": 2,
   "id": "8c49c57c",
   "metadata": {},
   "outputs": [
    {
     "name": "stdout",
     "output_type": "stream",
     "text": [
      "은닉 계층 3개를 갖는 다층 퍼셉트론이 작동되었습니다.\n",
      "Epoch 10: loss=1.681, accuracy=0.234/0.389\n",
      "Epoch 20: loss=1.573, accuracy=0.419/0.499\n",
      "Epoch 30: loss=1.548, accuracy=0.441/0.414\n",
      "Epoch 40: loss=1.570, accuracy=0.446/0.509\n",
      "Epoch 50: loss=1.541, accuracy=0.452/0.545\n",
      "\n",
      "Final Test: final accuracy = 0.545\n"
     ]
    }
   ],
   "source": [
    "LEARNING_RATE=0.0001\n",
    "hidden_config = [12,6,4]\n",
    "steel_exec(epoch_count=50, report=10)"
   ]
  },
  {
   "cell_type": "markdown",
   "id": "195aae4d",
   "metadata": {},
   "source": [
    "학습률을 디폴트값인 0.001에서 0.0001로 낮추자 정확도향상에 변화가 생겼다.\n",
    "\n",
    "이 말은 학습률이 이처럼 학습에 큰 영향을 미치는 하이퍼파라미터라고 할 수 있다.\n",
    "대체로 신경망 구성이 커져 파라미터가 늘어날수록 학습률을 작게 잡아주는 편이 나은 결과를 가져온다.\n",
    "\n",
    "하지만 학습률이 너무 작아지면 학습 속도가 느려질 뿐 아니라 지역적 최소점에 갇혀 빠져나오지 못하는 결과를 초래하기도 한다."
   ]
  }
 ],
 "metadata": {
  "kernelspec": {
   "display_name": "Python 3",
   "language": "python",
   "name": "python3"
  },
  "language_info": {
   "codemirror_mode": {
    "name": "ipython",
    "version": 3
   },
   "file_extension": ".py",
   "mimetype": "text/x-python",
   "name": "python",
   "nbconvert_exporter": "python",
   "pygments_lexer": "ipython3",
   "version": "3.8.10"
  }
 },
 "nbformat": 4,
 "nbformat_minor": 5
}
