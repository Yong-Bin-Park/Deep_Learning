{
 "cells": [
  {
   "cell_type": "code",
   "execution_count": 1,
   "id": "37ad494b",
   "metadata": {},
   "outputs": [],
   "source": [
    "%run abalone.ipynb"
   ]
  },
  {
   "cell_type": "code",
   "execution_count": 21,
   "id": "1ab57f5c",
   "metadata": {},
   "outputs": [],
   "source": [
    "def choice_exec(epoch_count=10, mb_size=10, report=1):\n",
    "    load_choice_dataset()\n",
    "    init_model()\n",
    "    train_and_test(epoch_count, mb_size, report)"
   ]
  },
  {
   "cell_type": "code",
   "execution_count": 22,
   "id": "2ee3c321",
   "metadata": {},
   "outputs": [],
   "source": [
    "def load_choice_dataset():\n",
    "    with open('Iris.csv') as csvfile:   #데이터셋을 가져온다\n",
    "        csvreader = csv.reader(csvfile)\n",
    "        next(csvreader, None)        #첫 행을 읽지 않고 건너뛴다.\n",
    "        rows = []\n",
    "        for row in csvreader:\n",
    "            rows.append(row)\n",
    "            \n",
    "    global data, input_cnt, output_cnt\n",
    "    input_cnt, output_cnt = 5, 3      #출력데이터를 3열로 설정\n",
    "    data = np.zeros([len(rows), input_cnt+output_cnt])   #꽃 개체들의 입출력 벡터 정보를 저장할 data 행렬을 만들 때 크기 지정에 이용\n",
    "    \n",
    "    #데이터가 원핫벡터표현이 안되있으므로 원핫벡터표현으로 만들어줌\n",
    "    for n, row in enumerate(rows):\n",
    "        if row[5] == 'Iris-setosa': data[n, 5] = 1\n",
    "        if row[5] == 'Iris-versicolor': data[n, 6] = 1\n",
    "        if row[5] == 'Iris-virginica': data[n, 7] = 1\n",
    "        data[n, :4] = row[:4]"
   ]
  },
  {
   "cell_type": "code",
   "execution_count": 23,
   "id": "6ee5c735",
   "metadata": {},
   "outputs": [],
   "source": [
    "def forward_postproc(output, y):\n",
    "    # output은 로짓값\n",
    "    # 로짓값 -> 소프트맥스 교차 엔트로피를 -> loss 연산\n",
    "    entropy = softmax_cross_entropy_with_logits(y, output)\n",
    "    loss = np.mean(entropy) \n",
    "    return loss, [y, output, entropy]\n",
    "\n",
    "def backprop_postproc(G_loss, aux):\n",
    "    y, output, entropy = aux\n",
    "    #평균(loss) 역산(편미분)\n",
    "    g_loss_entropy = 1.0 / np.prod(entropy.shape)\n",
    "    #엔트로피 함수 역산(편미분)\n",
    "    g_entropy_output = softmax_cross_entropy_with_logits_derv(y, output)\n",
    "    \n",
    "    G_entropy = g_loss_entropy * G_loss\n",
    "    G_output = g_entropy_output * G_entropy\n",
    "    #손실 기울기\n",
    "    return G_output"
   ]
  },
  {
   "cell_type": "code",
   "execution_count": 24,
   "id": "55b33cb1",
   "metadata": {},
   "outputs": [],
   "source": [
    "def eval_accuracy(output, y):\n",
    "    # np.argmax()는 각 로짓값을 담고 있는 최대값의 인덱스를 뽑아줌\n",
    "    estimate = np.argmax(output, axis=1)\n",
    "    answer = np.argmax(y, axis=1)\n",
    "    # 둘 인덱스 간의 위치가 일치하면 True(1) 아니면 False(0)\n",
    "    correct = np.equal(estimate, answer)\n",
    "    \n",
    "    return np.mean(correct)"
   ]
  },
  {
   "cell_type": "code",
   "execution_count": 25,
   "id": "8b1f830a",
   "metadata": {},
   "outputs": [],
   "source": [
    "def softmax(x):\n",
    "    # 각 열에서 최대를 고르고(피쳐에 해당하는 최대)\n",
    "    max_elem = np.max(x, axis=1)\n",
    "     # 각 행을 전치시켜서 최댓값을 뺴주고 (행벡터 -> 열벡터)\n",
    "    diff = (x.transpose() - max_elem).transpose()\n",
    "    # 자연상수 처리 (열벡터)\n",
    "    exp = np.exp(diff)\n",
    "    # 자연상수 처리 한 것들을 합치고 (열벡터)\n",
    "    sum_exp = np.sum(exp, axis=1)\n",
    "    # 시그모이드 함수 수식 적용하고 전치 (열벡터 -> 행벡터)\n",
    "    probs = (exp.transpose() / sum_exp).transpose()\n",
    "    return probs\n",
    "\n",
    "#실제로 호출되지 않지만 학습을 위한 구현\n",
    "#소프트맥스 함수 자체보다 교차엔트로피 값을 중심으로 이루어지기 때문\n",
    "def softmax_derv(x, y):\n",
    "    mb_size, nom_size = x.shape\n",
    "    derv = np.ndarray([mb_size, nom_size, nom_size])\n",
    "    #3중 반복문을 통한 야코비안 행렬\n",
    "    for n in range(mb_size):\n",
    "        for i in range(nom_size):\n",
    "            for j in range(nom_size):\n",
    "                derv[n, i, j] = -y[n,i] * y[n,j]\n",
    "            derv[n, i, i] += y[n,i]\n",
    "    return derv\n",
    "\n",
    "#log함수 폭주를 막기위해 epsilon 값을 10^(-10)값을 사용함\n",
    "#labels는 원-핫 벡터\n",
    "def softmax_cross_entropy_with_logits(labels, logits):\n",
    "    probs = softmax(logits)\n",
    "    return -np.sum(labels * np.log(probs+1.0e-10), axis=1)\n",
    "\n",
    "def softmax_cross_entropy_with_logits_derv(labels, logits):\n",
    "    return softmax(logits) - labels"
   ]
  },
  {
   "cell_type": "code",
   "execution_count": null,
   "id": "c803f593",
   "metadata": {},
   "outputs": [],
   "source": []
  }
 ],
 "metadata": {
  "kernelspec": {
   "display_name": "Python 3",
   "language": "python",
   "name": "python3"
  },
  "language_info": {
   "codemirror_mode": {
    "name": "ipython",
    "version": 3
   },
   "file_extension": ".py",
   "mimetype": "text/x-python",
   "name": "python",
   "nbconvert_exporter": "python",
   "pygments_lexer": "ipython3",
   "version": "3.8.10"
  }
 },
 "nbformat": 4,
 "nbformat_minor": 5
}
