{
 "cells": [
  {
   "cell_type": "code",
   "execution_count": 3,
   "id": "03b29de6",
   "metadata": {},
   "outputs": [],
   "source": [
    "%run binary_ext.ipynb"
   ]
  },
  {
   "cell_type": "code",
   "execution_count": 4,
   "id": "1d31063a",
   "metadata": {},
   "outputs": [
    {
     "name": "stdout",
     "output_type": "stream",
     "text": [
      "169\n",
      "Epoch 1: loss=0.592, result=0.776,0.760,0.927,0.835\n",
      "Epoch 2: loss=0.522, result=0.761,0.755,0.902,0.822\n",
      "Epoch 3: loss=0.507, result=0.776,0.783,0.878,0.828\n",
      "Epoch 4: loss=0.500, result=0.776,0.771,0.902,0.831\n",
      "Epoch 5: loss=0.492, result=0.806,0.818,0.878,0.847\n",
      "Epoch 6: loss=0.505, result=0.776,0.771,0.902,0.831\n",
      "Epoch 7: loss=0.498, result=0.776,0.771,0.902,0.831\n",
      "Epoch 8: loss=0.510, result=0.776,0.771,0.902,0.831\n",
      "Epoch 9: loss=0.502, result=0.776,0.783,0.878,0.828\n",
      "Epoch 10: loss=0.501, result=0.776,0.771,0.902,0.831\n",
      "\n",
      "Final Test: final result = 0.776,0.771,0.902,0.831\n"
     ]
    }
   ],
   "source": [
    "binary_exec()"
   ]
  },
  {
   "cell_type": "code",
   "execution_count": 5,
   "id": "820b068d",
   "metadata": {},
   "outputs": [
    {
     "name": "stdout",
     "output_type": "stream",
     "text": [
      "169\n",
      "Epoch 1: loss=0.645, result=0.732,0.730,0.844,0.783\n",
      "Epoch 2: loss=0.568, result=0.768,0.771,0.844,0.806\n",
      "Epoch 3: loss=0.556, result=0.786,0.812,0.812,0.812\n",
      "Epoch 4: loss=0.550, result=0.804,0.862,0.781,0.820\n",
      "Epoch 5: loss=0.544, result=0.750,0.750,0.844,0.794\n",
      "Epoch 6: loss=0.537, result=0.786,0.812,0.812,0.812\n",
      "Epoch 7: loss=0.543, result=0.786,0.857,0.750,0.800\n",
      "Epoch 8: loss=0.545, result=0.786,0.812,0.812,0.812\n",
      "Epoch 9: loss=0.540, result=0.786,0.812,0.812,0.812\n",
      "Epoch 10: loss=0.542, result=0.732,0.730,0.844,0.783\n",
      "\n",
      "Final Test: final result = 0.732,0.730,0.844,0.783\n"
     ]
    }
   ],
   "source": [
    "binary_exec(adjust_ratio=True)"
   ]
  },
  {
   "cell_type": "code",
   "execution_count": null,
   "id": "292f32b4",
   "metadata": {},
   "outputs": [],
   "source": []
  }
 ],
 "metadata": {
  "kernelspec": {
   "display_name": "Python 3",
   "language": "python",
   "name": "python3"
  },
  "language_info": {
   "codemirror_mode": {
    "name": "ipython",
    "version": 3
   },
   "file_extension": ".py",
   "mimetype": "text/x-python",
   "name": "python",
   "nbconvert_exporter": "python",
   "pygments_lexer": "ipython3",
   "version": "3.8.10"
  }
 },
 "nbformat": 4,
 "nbformat_minor": 5
}
