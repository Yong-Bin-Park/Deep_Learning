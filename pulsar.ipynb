{
 "cells": [
  {
   "cell_type": "code",
   "execution_count": 1,
   "id": "28473d99",
   "metadata": {},
   "outputs": [],
   "source": [
    "%run abalone.ipynb"
   ]
  },
  {
   "cell_type": "code",
   "execution_count": 2,
   "id": "aa17f9a6",
   "metadata": {},
   "outputs": [],
   "source": [
    "def pulsar_exec(epoch_count=10, mb_size=10, report=1):\n",
    "    load_pulsar_dataset()\n",
    "    init_model()\n",
    "    train_and_test(epoch_count, mb_size, report)"
   ]
  },
  {
   "cell_type": "code",
   "execution_count": 3,
   "id": "778ee2bc",
   "metadata": {},
   "outputs": [],
   "source": [
    "def load_pulsar_dataset():\n",
    "    with open('pulsar_stars.csv') as csvfile:\n",
    "        csvreader = csv.reader(csvfile)\n",
    "        next(csvreader, None)\n",
    "        rows = []\n",
    "        for row in csvreader:\n",
    "            rows.append(row)\n",
    "            \n",
    "    global data, input_cnt, output_cnt\n",
    "    input_cnt, output_cnt = 8, 1\n",
    "    data = np.asarray(rows, dtype='float32')"
   ]
  },
  {
   "cell_type": "code",
   "execution_count": 4,
   "id": "841e0d95",
   "metadata": {},
   "outputs": [],
   "source": [
    "def forward_postproc(output, y): # 순전파 처리 수행\n",
    "    # 두 행렬의 각 원소 짝에 대한 시그모이드 교차 엔트로피를 일괄적으로 구함\n",
    "    entropy = sigmoid_cross_entropy_with_logits(y, output)\n",
    "    # 이들의 평균 = loss\n",
    "    loss = np.mean(entropy)\n",
    "    return loss, [y, output, entropy]\n",
    "\n",
    "def backprop_postproc(G_loss, aux):\n",
    "    y, output, entropy = aux\n",
    "    \n",
    "     # 순전파는 entropy -> loss였음, 따라서 역전파는 loss -> entropy\n",
    "    # 1.0을 행렬의 원소 수로 나누어 각 원소의 손실 기울기로 부여\n",
    "    g_loss_entropy = 1.0 / np.prod(entropy.shape)\n",
    "    \n",
    "    # y와 output 쌍 간의 시그모이드 교차 엔트로피 편미분 값을 구함\n",
    "    g_entropy_output = sigmoid_cross_entropy_with_logits_derv(y, output)    \n",
    "    \n",
    "    #역전파 결과를 산출\n",
    "    G_entropy = g_loss_entropy * G_loss\n",
    "    G_output = g_entropy_output * G_entropy\n",
    "    \n",
    "    return G_output"
   ]
  },
  {
   "cell_type": "code",
   "execution_count": 5,
   "id": "f759c56c",
   "metadata": {},
   "outputs": [],
   "source": [
    "def eval_accuracy(output, y):\n",
    "    # output의 부호에 따라서 신경망의 판단을 알 수 있음(시그모이드를 안써도됨)\n",
    "    estimate = np.greater(output, 0)\n",
    "    # 정답은 1 or 0 , 안전하게 0.5와 비교하여 구함\n",
    "    answer = np.greater(y, 0.5)\n",
    "    # 불리언값 배열로 비교\n",
    "    correct = np.equal(estimate, answer)\n",
    "    \n",
    "    #평균을 내면 결국 불리언이 1,0으로 간주되어 계산됨\n",
    "    return np.mean(correct)"
   ]
  },
  {
   "cell_type": "code",
   "execution_count": 6,
   "id": "17dff9e4",
   "metadata": {},
   "outputs": [],
   "source": [
    "def relu(x): # x배열 원소 각각에 대해 음수는 모두 0으로 대치하는 함수\n",
    "    # np.max는 문자열 전체와 0을 비교하는 것이어서 다름\n",
    "    return np.maximum(x, 0)\n",
    "\n",
    "def sigmoid(x):\n",
    "    return np.exp(-relu(-x)) / (1.0 + np.exp(-np.abs(x)))\n",
    "        \n",
    "def sigmoid_derv(x, y):\n",
    "    return y * (1 - y)\n",
    "\n",
    "def sigmoid_cross_entropy_with_logits(z, x):\n",
    "    return relu(x) - x * z + np.log(1 + np.exp(-np.abs(x)))\n",
    "\n",
    "def sigmoid_cross_entropy_with_logits_derv(z, x):\n",
    "    return -z + sigmoid(x)"
   ]
  },
  {
   "cell_type": "code",
   "execution_count": null,
   "id": "a31bcbc3",
   "metadata": {},
   "outputs": [],
   "source": []
  }
 ],
 "metadata": {
  "kernelspec": {
   "display_name": "Python 3",
   "language": "python",
   "name": "python3"
  },
  "language_info": {
   "codemirror_mode": {
    "name": "ipython",
    "version": 3
   },
   "file_extension": ".py",
   "mimetype": "text/x-python",
   "name": "python",
   "nbconvert_exporter": "python",
   "pygments_lexer": "ipython3",
   "version": "3.8.10"
  }
 },
 "nbformat": 4,
 "nbformat_minor": 5
}
