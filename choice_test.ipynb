{
 "cells": [
  {
   "cell_type": "code",
   "execution_count": 14,
   "id": "f6ddc120",
   "metadata": {},
   "outputs": [],
   "source": [
    "%run choice.ipynb"
   ]
  },
  {
   "cell_type": "code",
   "execution_count": 5,
   "id": "8eba803b",
   "metadata": {},
   "outputs": [
    {
     "name": "stdout",
     "output_type": "stream",
     "text": [
      "Epoch 1: loss=1.193, accuracy=0.375/0.333\n",
      "Epoch 2: loss=1.444, accuracy=0.392/0.400\n",
      "Epoch 3: loss=0.933, accuracy=0.442/0.300\n",
      "Epoch 4: loss=1.631, accuracy=0.425/0.500\n",
      "Epoch 5: loss=1.179, accuracy=0.500/0.433\n",
      "Epoch 6: loss=1.511, accuracy=0.458/0.533\n",
      "Epoch 7: loss=1.228, accuracy=0.483/0.500\n",
      "Epoch 8: loss=1.137, accuracy=0.500/0.500\n",
      "Epoch 9: loss=1.049, accuracy=0.533/0.533\n",
      "Epoch 10: loss=1.114, accuracy=0.550/0.567\n",
      "\n",
      "Final Test: final accuracy = 0.567\n"
     ]
    }
   ],
   "source": [
    "choice_exec()"
   ]
  },
  {
   "cell_type": "code",
   "execution_count": 6,
   "id": "2f4c5511",
   "metadata": {},
   "outputs": [
    {
     "name": "stdout",
     "output_type": "stream",
     "text": [
      "Epoch 1: loss=0.990, accuracy=0.358/0.233\n",
      "Epoch 2: loss=0.972, accuracy=0.358/0.267\n",
      "Epoch 3: loss=0.964, accuracy=0.358/0.267\n",
      "Epoch 4: loss=0.964, accuracy=0.358/0.300\n",
      "Epoch 5: loss=0.962, accuracy=0.358/0.300\n",
      "Epoch 6: loss=0.962, accuracy=0.367/0.300\n",
      "Epoch 7: loss=0.957, accuracy=0.367/0.333\n",
      "Epoch 8: loss=0.955, accuracy=0.367/0.333\n",
      "Epoch 9: loss=0.962, accuracy=0.383/0.333\n",
      "Epoch 10: loss=0.952, accuracy=0.383/0.333\n",
      "\n",
      "Final Test: final accuracy = 0.333\n"
     ]
    }
   ],
   "source": [
    "LEARNING_RATE = 0.0001\n",
    "choice_exec()"
   ]
  },
  {
   "cell_type": "code",
   "execution_count": 7,
   "id": "9908ba20",
   "metadata": {},
   "outputs": [
    {
     "name": "stdout",
     "output_type": "stream",
     "text": [
      "Epoch 1: loss=7.248, accuracy=0.375/0.333\n",
      "Epoch 2: loss=10.643, accuracy=0.342/0.333\n",
      "Epoch 3: loss=10.833, accuracy=0.358/0.467\n",
      "Epoch 4: loss=11.675, accuracy=0.350/0.633\n",
      "Epoch 5: loss=11.103, accuracy=0.367/0.367\n",
      "Epoch 6: loss=7.510, accuracy=0.475/0.367\n",
      "Epoch 7: loss=6.801, accuracy=0.500/0.333\n",
      "Epoch 8: loss=11.455, accuracy=0.333/0.633\n",
      "Epoch 9: loss=9.278, accuracy=0.483/0.367\n",
      "Epoch 10: loss=7.061, accuracy=0.483/0.433\n",
      "\n",
      "Final Test: final accuracy = 0.433\n"
     ]
    }
   ],
   "source": [
    "LEARNING_RATE = 0.01\n",
    "choice_exec()"
   ]
  },
  {
   "cell_type": "code",
   "execution_count": 9,
   "id": "9bacec17",
   "metadata": {},
   "outputs": [
    {
     "name": "stdout",
     "output_type": "stream",
     "text": [
      "Epoch 1: loss=1.193, accuracy=0.375/0.333\n",
      "Epoch 2: loss=1.444, accuracy=0.392/0.400\n",
      "Epoch 3: loss=0.933, accuracy=0.442/0.300\n",
      "Epoch 4: loss=1.631, accuracy=0.425/0.500\n",
      "Epoch 5: loss=1.179, accuracy=0.500/0.433\n",
      "Epoch 6: loss=1.511, accuracy=0.458/0.533\n",
      "Epoch 7: loss=1.228, accuracy=0.483/0.500\n",
      "Epoch 8: loss=1.137, accuracy=0.500/0.500\n",
      "Epoch 9: loss=1.049, accuracy=0.533/0.533\n",
      "Epoch 10: loss=1.114, accuracy=0.550/0.567\n",
      "Epoch 11: loss=1.061, accuracy=0.517/0.567\n",
      "Epoch 12: loss=1.404, accuracy=0.492/0.533\n",
      "Epoch 13: loss=1.096, accuracy=0.608/0.767\n",
      "Epoch 14: loss=0.954, accuracy=0.600/0.567\n",
      "Epoch 15: loss=1.024, accuracy=0.567/0.800\n",
      "Epoch 16: loss=1.295, accuracy=0.550/0.533\n",
      "Epoch 17: loss=1.103, accuracy=0.617/0.633\n",
      "Epoch 18: loss=1.064, accuracy=0.608/0.567\n",
      "Epoch 19: loss=1.097, accuracy=0.608/0.600\n",
      "Epoch 20: loss=0.913, accuracy=0.625/0.567\n",
      "Epoch 21: loss=1.091, accuracy=0.633/0.667\n",
      "Epoch 22: loss=1.117, accuracy=0.600/0.867\n",
      "Epoch 23: loss=0.871, accuracy=0.692/0.533\n",
      "Epoch 24: loss=1.089, accuracy=0.683/0.667\n",
      "Epoch 25: loss=1.205, accuracy=0.608/0.567\n",
      "Epoch 26: loss=1.271, accuracy=0.617/0.533\n",
      "Epoch 27: loss=1.396, accuracy=0.583/0.633\n",
      "Epoch 28: loss=0.939, accuracy=0.642/0.633\n",
      "Epoch 29: loss=1.314, accuracy=0.567/0.567\n",
      "Epoch 30: loss=1.161, accuracy=0.650/0.567\n",
      "\n",
      "Final Test: final accuracy = 0.567\n"
     ]
    }
   ],
   "source": [
    "#에포크를 30으로 늘려주었을 때\n",
    "choice_exec()"
   ]
  },
  {
   "cell_type": "markdown",
   "id": "f2b31258",
   "metadata": {},
   "source": [
    "아래경우가 그나마 정확도가 가장 높음"
   ]
  },
  {
   "cell_type": "code",
   "execution_count": 13,
   "id": "29c789e1",
   "metadata": {},
   "outputs": [
    {
     "name": "stdout",
     "output_type": "stream",
     "text": [
      "Epoch 1: loss=1.218, accuracy=0.367/0.433\n",
      "Epoch 2: loss=1.418, accuracy=0.367/0.333\n",
      "Epoch 3: loss=1.776, accuracy=0.367/0.333\n",
      "Epoch 4: loss=1.082, accuracy=0.492/0.333\n",
      "Epoch 5: loss=1.675, accuracy=0.400/0.533\n",
      "Epoch 6: loss=1.189, accuracy=0.525/0.533\n",
      "Epoch 7: loss=1.035, accuracy=0.525/0.400\n",
      "Epoch 8: loss=2.091, accuracy=0.417/0.667\n",
      "Epoch 9: loss=1.540, accuracy=0.458/0.667\n",
      "Epoch 10: loss=1.268, accuracy=0.508/0.700\n",
      "Epoch 11: loss=1.251, accuracy=0.450/0.533\n",
      "Epoch 12: loss=1.341, accuracy=0.600/0.433\n",
      "Epoch 13: loss=1.480, accuracy=0.458/0.667\n",
      "Epoch 14: loss=1.629, accuracy=0.467/0.533\n",
      "Epoch 15: loss=1.306, accuracy=0.575/0.667\n",
      "Epoch 16: loss=1.246, accuracy=0.525/0.933\n",
      "Epoch 17: loss=1.013, accuracy=0.567/0.667\n",
      "Epoch 18: loss=1.112, accuracy=0.608/0.633\n",
      "Epoch 19: loss=1.488, accuracy=0.483/0.700\n",
      "Epoch 20: loss=1.012, accuracy=0.533/0.667\n",
      "Epoch 21: loss=0.954, accuracy=0.583/0.600\n",
      "Epoch 22: loss=1.038, accuracy=0.625/0.667\n",
      "Epoch 23: loss=1.286, accuracy=0.550/0.433\n",
      "Epoch 24: loss=1.265, accuracy=0.617/0.833\n",
      "Epoch 25: loss=0.872, accuracy=0.700/0.833\n",
      "Epoch 26: loss=1.236, accuracy=0.600/0.733\n",
      "Epoch 27: loss=1.082, accuracy=0.592/0.667\n",
      "Epoch 28: loss=0.837, accuracy=0.650/0.533\n",
      "Epoch 29: loss=1.141, accuracy=0.558/0.733\n",
      "Epoch 30: loss=1.741, accuracy=0.600/0.733\n",
      "\n",
      "Final Test: final accuracy = 0.733\n"
     ]
    }
   ],
   "source": [
    "#학습률까지 조정했을 때\n",
    "LEARNING_RATE = 0.001\n",
    "choice_exec()"
   ]
  },
  {
   "cell_type": "code",
   "execution_count": 15,
   "id": "6a864691",
   "metadata": {},
   "outputs": [
    {
     "name": "stdout",
     "output_type": "stream",
     "text": [
      "Epoch 1: loss=1.193, accuracy=0.375/0.333\n",
      "Epoch 2: loss=1.444, accuracy=0.392/0.400\n",
      "Epoch 3: loss=0.933, accuracy=0.442/0.300\n",
      "Epoch 4: loss=1.631, accuracy=0.425/0.500\n",
      "Epoch 5: loss=1.179, accuracy=0.500/0.433\n",
      "Epoch 6: loss=1.511, accuracy=0.458/0.533\n",
      "Epoch 7: loss=1.228, accuracy=0.483/0.500\n",
      "Epoch 8: loss=1.137, accuracy=0.500/0.500\n",
      "Epoch 9: loss=1.049, accuracy=0.533/0.533\n",
      "Epoch 10: loss=1.114, accuracy=0.550/0.567\n",
      "Epoch 11: loss=1.061, accuracy=0.517/0.567\n",
      "Epoch 12: loss=1.404, accuracy=0.492/0.533\n",
      "Epoch 13: loss=1.096, accuracy=0.608/0.767\n",
      "Epoch 14: loss=0.954, accuracy=0.600/0.567\n",
      "Epoch 15: loss=1.024, accuracy=0.567/0.800\n",
      "Epoch 16: loss=1.295, accuracy=0.550/0.533\n",
      "Epoch 17: loss=1.103, accuracy=0.617/0.633\n",
      "Epoch 18: loss=1.064, accuracy=0.608/0.567\n",
      "Epoch 19: loss=1.097, accuracy=0.608/0.600\n",
      "Epoch 20: loss=0.913, accuracy=0.625/0.567\n",
      "Epoch 21: loss=1.091, accuracy=0.633/0.667\n",
      "Epoch 22: loss=1.117, accuracy=0.600/0.867\n",
      "Epoch 23: loss=0.871, accuracy=0.692/0.533\n",
      "Epoch 24: loss=1.089, accuracy=0.683/0.667\n",
      "Epoch 25: loss=1.205, accuracy=0.608/0.567\n",
      "Epoch 26: loss=1.271, accuracy=0.617/0.533\n",
      "Epoch 27: loss=1.396, accuracy=0.583/0.633\n",
      "Epoch 28: loss=0.939, accuracy=0.642/0.633\n",
      "Epoch 29: loss=1.314, accuracy=0.567/0.567\n",
      "Epoch 30: loss=1.161, accuracy=0.650/0.567\n",
      "\n",
      "Final Test: final accuracy = 0.567\n"
     ]
    }
   ],
   "source": [
    "#에포크를 30으로 늘려주고 미니베치 사이즈를 15로 했을 때\n",
    "choice_exec()"
   ]
  },
  {
   "cell_type": "code",
   "execution_count": 16,
   "id": "ffc3bc4c",
   "metadata": {},
   "outputs": [
    {
     "name": "stdout",
     "output_type": "stream",
     "text": [
      "Epoch 1: loss=1.496, accuracy=0.350/0.233\n",
      "Epoch 2: loss=1.705, accuracy=0.350/0.333\n",
      "Epoch 3: loss=1.290, accuracy=0.433/0.300\n",
      "Epoch 4: loss=1.200, accuracy=0.483/0.367\n",
      "Epoch 5: loss=1.190, accuracy=0.467/0.333\n",
      "Epoch 6: loss=1.500, accuracy=0.400/0.533\n",
      "Epoch 7: loss=1.312, accuracy=0.467/0.333\n",
      "Epoch 8: loss=1.513, accuracy=0.483/0.467\n",
      "Epoch 9: loss=1.636, accuracy=0.517/0.467\n",
      "Epoch 10: loss=1.475, accuracy=0.458/0.400\n",
      "Epoch 11: loss=1.796, accuracy=0.408/0.467\n",
      "Epoch 12: loss=1.188, accuracy=0.608/0.533\n",
      "Epoch 13: loss=1.096, accuracy=0.600/0.467\n",
      "Epoch 14: loss=1.847, accuracy=0.483/0.533\n",
      "Epoch 15: loss=1.019, accuracy=0.558/0.600\n",
      "Epoch 16: loss=1.264, accuracy=0.608/0.767\n",
      "Epoch 17: loss=1.348, accuracy=0.500/0.533\n",
      "Epoch 18: loss=1.045, accuracy=0.617/0.467\n",
      "Epoch 19: loss=1.033, accuracy=0.608/0.467\n",
      "Epoch 20: loss=1.110, accuracy=0.583/0.467\n",
      "Epoch 21: loss=1.518, accuracy=0.542/0.733\n",
      "Epoch 22: loss=1.171, accuracy=0.583/0.600\n",
      "Epoch 23: loss=1.434, accuracy=0.542/0.533\n",
      "Epoch 24: loss=1.787, accuracy=0.500/0.800\n",
      "Epoch 25: loss=1.314, accuracy=0.650/0.700\n",
      "Epoch 26: loss=1.044, accuracy=0.667/0.533\n",
      "Epoch 27: loss=1.983, accuracy=0.475/0.633\n",
      "Epoch 28: loss=0.893, accuracy=0.658/0.567\n",
      "Epoch 29: loss=1.344, accuracy=0.558/0.733\n",
      "Epoch 30: loss=0.674, accuracy=0.725/0.533\n",
      "\n",
      "Final Test: final accuracy = 0.533\n"
     ]
    }
   ],
   "source": [
    "#학습률까지 조정했을 때\n",
    "LEARNING_RATE = 0.001\n",
    "choice_exec()"
   ]
  },
  {
   "cell_type": "code",
   "execution_count": null,
   "id": "c769c863",
   "metadata": {},
   "outputs": [],
   "source": []
  }
 ],
 "metadata": {
  "kernelspec": {
   "display_name": "Python 3",
   "language": "python",
   "name": "python3"
  },
  "language_info": {
   "codemirror_mode": {
    "name": "ipython",
    "version": 3
   },
   "file_extension": ".py",
   "mimetype": "text/x-python",
   "name": "python",
   "nbconvert_exporter": "python",
   "pygments_lexer": "ipython3",
   "version": "3.8.10"
  }
 },
 "nbformat": 4,
 "nbformat_minor": 5
}
